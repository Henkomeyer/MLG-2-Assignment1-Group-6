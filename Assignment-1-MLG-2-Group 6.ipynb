{
 "cells": [
  {
   "cell_type": "markdown",
   "id": "f77d9c88",
   "metadata": {},
   "source": [
    "# Assignment 1 : Group 6 \n",
    "### -- Team Members -- \n",
    "* ### Danae Marais : 578326\n",
    "* ### Vuyo Fortune Mathe : 578376\n",
    "* ### Roan Palm : 578632\n",
    "* ### Henko Meyer : 578420"
   ]
  },
  {
   "cell_type": "code",
   "execution_count": null,
   "id": "b33bafe6",
   "metadata": {},
   "outputs": [],
   "source": []
  }
 ],
 "metadata": {
  "kernelspec": {
   "display_name": "Python 3 (ipykernel)",
   "language": "python",
   "name": "python3"
  },
  "language_info": {
   "codemirror_mode": {
    "name": "ipython",
    "version": 3
   },
   "file_extension": ".py",
   "mimetype": "text/x-python",
   "name": "python",
   "nbconvert_exporter": "python",
   "pygments_lexer": "ipython3",
   "version": "3.10.9"
  }
 },
 "nbformat": 4,
 "nbformat_minor": 5
}
